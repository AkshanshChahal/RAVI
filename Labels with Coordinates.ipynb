{
 "cells": [
  {
   "cell_type": "code",
   "execution_count": 12,
   "metadata": {},
   "outputs": [],
   "source": [
    "# Pillow is installed but import PIL due to backward dependency\n",
    "from PIL import Image\n",
    "from tesserocr import PyTessBaseAPI, RIL\n",
    "from IPython.display import Image as Imagex "
   ]
  },
  {
   "cell_type": "code",
   "execution_count": 13,
   "metadata": {},
   "outputs": [],
   "source": [
    "base = '/Users/macbook/Documents/RAVI/Notebook/'\n",
    "index = 1\n",
    "path = base + str(index) + '.png'\n",
    "image = Image.open(path)"
   ]
  },
  {
   "cell_type": "code",
   "execution_count": 14,
   "metadata": {},
   "outputs": [],
   "source": [
    "# Imagex(path)"
   ]
  },
  {
   "cell_type": "code",
   "execution_count": null,
   "metadata": {},
   "outputs": [],
   "source": []
  },
  {
   "cell_type": "code",
   "execution_count": 16,
   "metadata": {},
   "outputs": [],
   "source": [
    "class Label:\n",
    "    \"\"\"Class for the identified labels\"\"\"\n",
    "    \n",
    "    def __init__(self, x, y, w, h, confidence, text):\n",
    "        self.x = x\n",
    "        self.y = y\n",
    "        self.w = w\n",
    "        self.h = h\n",
    "        self.confidence = confidence\n",
    "        self.text = text\n",
    "        \n",
    "    def getX(self):\n",
    "        return self.x\n",
    "    \n",
    "    def getY(self):\n",
    "        return self.y\n",
    "    \n",
    "    def getW(self):\n",
    "        return self.w\n",
    "    \n",
    "    def getH(self):\n",
    "        return self.H\n",
    "    \n",
    "    def getConfidence(self):\n",
    "        return self.confidence\n",
    "    \n",
    "    def getText(self):\n",
    "        return self.text\n",
    "    \n",
    "    def updateText(self, newtext):\n",
    "        self.text = newtext"
   ]
  },
  {
   "cell_type": "code",
   "execution_count": null,
   "metadata": {},
   "outputs": [],
   "source": []
  },
  {
   "cell_type": "code",
   "execution_count": null,
   "metadata": {},
   "outputs": [],
   "source": []
  },
  {
   "cell_type": "code",
   "execution_count": 17,
   "metadata": {},
   "outputs": [],
   "source": [
    "labels = []"
   ]
  },
  {
   "cell_type": "code",
   "execution_count": 18,
   "metadata": {},
   "outputs": [
    {
     "name": "stdout",
     "output_type": "stream",
     "text": [
      "-----------------------\n",
      "Found 9 text labels.\n",
      "-----------------------\n",
      "(371, 160, 199, 18, 83, u'Test tube holder\\n\\n')\n",
      "(417, 206, 144, 24, 84, u'Boiling tube\\n\\n')\n",
      "(417, 252, 144, 18, 77, u'Lead nitrate\\n\\n')\n",
      "(416, 381, 86, 18, 84, u'Burner\\n\\n')\n",
      "(44, 589, 160, 28, 89, u'Figure 1 .5\\n\\n')\n",
      "(45, 624, 387, 29, 84, u'Heating of lead nitrate and\\n\\n')\n",
      "(46, 660, 381, 29, 84, u'emission of nitrogen dioxide\\n\\n')\n"
     ]
    }
   ],
   "source": [
    "api = PyTessBaseAPI()\n",
    "api.SetImage(image)\n",
    "boxes = api.GetComponentImages(RIL.TEXTLINE, True)\n",
    "print '-----------------------'\n",
    "print 'Found {} text labels.'.format(len(boxes))\n",
    "print '-----------------------'\n",
    "# im is a PIL image object\n",
    "# box is a dict with keys x, y, w and h\n",
    "for i, (im, box, _, _) in enumerate(boxes):\n",
    "    api.SetRectangle(box['x'], box['y'], box['w'], box['h'])\n",
    "    ocrResult = api.GetUTF8Text()\n",
    "    conf = api.MeanTextConf()\n",
    "    if conf < 70: continue\n",
    "    print (box['x'],box['y'],box['w'],box['h'],conf,ocrResult)\n",
    "    \n",
    "    newLabel = Label(box['x'], box['y'], box['w'], box['h'], conf, ocrResult.strip())\n",
    "    labels.append(newLabel)\n",
    "    \n",
    "#     print (u\"[{0}]: x={x:3}, y={y:3}, w={w:3}, h={h:3}, \"\n",
    "#            \"confidence: {1:2}, text: {2}\").format(i, conf, ocrResult, **box)"
   ]
  },
  {
   "cell_type": "code",
   "execution_count": 22,
   "metadata": {},
   "outputs": [
    {
     "name": "stdout",
     "output_type": "stream",
     "text": [
      "Test tube holder\n",
      "Boiling tube\n",
      "Lead nitrate\n",
      "Burner\n",
      "Figure 1 .5\n",
      "Heating of lead nitrate and\n",
      "emission of nitrogen dioxide\n"
     ]
    }
   ],
   "source": [
    "for label in labels:\n",
    "    print label.getText()"
   ]
  },
  {
   "cell_type": "code",
   "execution_count": null,
   "metadata": {},
   "outputs": [],
   "source": []
  }
 ],
 "metadata": {
  "kernelspec": {
   "display_name": "Python 2",
   "language": "python",
   "name": "python2"
  },
  "language_info": {
   "codemirror_mode": {
    "name": "ipython",
    "version": 2
   },
   "file_extension": ".py",
   "mimetype": "text/x-python",
   "name": "python",
   "nbconvert_exporter": "python",
   "pygments_lexer": "ipython2",
   "version": "2.7.14"
  }
 },
 "nbformat": 4,
 "nbformat_minor": 2
}
