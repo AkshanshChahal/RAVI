{
 "cells": [
  {
   "cell_type": "code",
   "execution_count": 12,
   "metadata": {},
   "outputs": [],
   "source": [
    "# Pillow is installed but import PIL due to backward dependency\n",
    "from PIL import Image\n",
    "from tesserocr import PyTessBaseAPI, RIL\n",
    "from IPython.display import Image as Imagex "
   ]
  },
  {
   "cell_type": "code",
   "execution_count": 13,
   "metadata": {},
   "outputs": [],
   "source": [
    "base = '/Users/macbook/Documents/RAVI/Notebook/'\n",
    "index = 1\n",
    "path = base + str(index) + '.png'\n",
    "image = Image.open(path)"
   ]
  },
  {
   "cell_type": "code",
   "execution_count": 14,
   "metadata": {},
   "outputs": [],
   "source": [
    "# Imagex(path)"
   ]
  },
  {
   "cell_type": "code",
   "execution_count": null,
   "metadata": {},
   "outputs": [],
   "source": []
  },
  {
   "cell_type": "code",
   "execution_count": 16,
   "metadata": {},
   "outputs": [],
   "source": [
    "class Label:\n",
    "    \"\"\"Class for the identified labels\"\"\"\n",
    "    \n",
    "    def __init__(self, x, y, w, h, confidence, text):\n",
    "        self.x = x\n",
    "        self.y = y\n",
    "        self.w = w\n",
    "        self.h = h\n",
    "        self.confidence = confidence\n",
    "        self.text = text\n",
    "        \n",
    "    def getX(self):\n",
    "        return self.x\n",
    "    \n",
    "    def getY(self):\n",
    "        return self.y\n",
    "    \n",
    "    def getW(self):\n",
    "        return self.w\n",
    "    \n",
    "    def getH(self):\n",
    "        return self.h\n",
    "    \n",
    "    def getConfidence(self):\n",
    "        return self.confidence\n",
    "    \n",
    "    def getText(self):\n",
    "        return self.text\n",
    "    \n",
    "    def updateText(self, newtext):\n",
    "        self.text = newtext"
   ]
  },
  {
   "cell_type": "code",
   "execution_count": null,
   "metadata": {},
   "outputs": [],
   "source": []
  },
  {
   "cell_type": "code",
   "execution_count": null,
   "metadata": {},
   "outputs": [],
   "source": []
  },
  {
   "cell_type": "code",
   "execution_count": 26,
   "metadata": {},
   "outputs": [],
   "source": []
  },
  {
   "cell_type": "code",
   "execution_count": 30,
   "metadata": {},
   "outputs": [
    {
     "name": "stdout",
     "output_type": "stream",
     "text": [
      "(371, 160, 199, 18, 83, u'Test tube holder')\n",
      "(417, 206, 144, 24, 84, u'Boiling tube')\n",
      "(417, 252, 144, 18, 77, u'Lead nitrate')\n",
      "(416, 381, 86, 18, 84, u'Burner')\n",
      "(44, 589, 160, 28, 89, u'Figure 1 .5')\n",
      "(45, 624, 387, 29, 84, u'Heating of lead nitrate and')\n",
      "(46, 660, 381, 29, 84, u'emission of nitrogen dioxide')\n",
      "-----------------------\n",
      "There are in total 4 text labels.\n",
      "-----------------------\n",
      "-----------------------\n",
      "Image Caption :  Heating of lead nitrate and emission of nitrogen dioxide\n",
      "-----------------------\n"
     ]
    }
   ],
   "source": [
    "api = PyTessBaseAPI()\n",
    "api.SetImage(image)\n",
    "boxes = api.GetComponentImages(RIL.TEXTLINE, True)\n",
    "labels = []\n",
    "caption = ''\n",
    "b = False\n",
    "\n",
    "\n",
    "\"\"\"im is a PIL image object\"\"\"\n",
    "\"\"\"box is a dictionary with keys x, y, w and h\"\"\"\n",
    "\n",
    "for i, (im, box, _, _) in enumerate(boxes):\n",
    "    api.SetRectangle(box['x'], box['y'], box['w'], box['h'])\n",
    "    ocrResult = api.GetUTF8Text()\n",
    "    conf = api.MeanTextConf()\n",
    "    \n",
    "    if conf < 70: continue\n",
    "    \n",
    "    print (box['x'], box['y'], box['w'], box['h'], conf, ocrResult.strip())\n",
    "    \n",
    "    if b:\n",
    "        caption = caption + \" \" + ocrResult.strip()\n",
    "        continue\n",
    "        \n",
    "    if ocrResult.strip().lower().startswith('fig'):\n",
    "        b = True\n",
    "        continue\n",
    "    \n",
    "    newLabel = Label(box['x'], box['y'], box['w'], box['h'], conf, ocrResult.strip())\n",
    "    labels.append(newLabel)\n",
    "\n",
    "    \n",
    "print '-----------------------'\n",
    "print 'There are in total {} text labels.'.format(len(labels))\n",
    "print '-----------------------'\n",
    "\n",
    "print '-----------------------'\n",
    "print 'Image Caption : {}'.format(caption)\n",
    "print '-----------------------'\n",
    "#     print (u\"[{0}]: x={x:3}, y={y:3}, w={w:3}, h={h:3}, \"\n",
    "#            \"confidence: {1:2}, text: {2}\").format(i, conf, ocrResult, **box)\n",
    "\n"
   ]
  },
  {
   "cell_type": "code",
   "execution_count": 31,
   "metadata": {},
   "outputs": [
    {
     "name": "stdout",
     "output_type": "stream",
     "text": [
      "Test tube holder\n",
      "Boiling tube\n",
      "Lead nitrate\n",
      "Burner\n"
     ]
    }
   ],
   "source": [
    "for label in labels:\n",
    "    print label.getText()"
   ]
  },
  {
   "cell_type": "code",
   "execution_count": 34,
   "metadata": {},
   "outputs": [],
   "source": [
    "def dist(x1, y1, x2, y2):\n",
    "    return (x2-x1)**2 + (y2-y1)**2"
   ]
  },
  {
   "cell_type": "code",
   "execution_count": 52,
   "metadata": {},
   "outputs": [],
   "source": [
    "pairs = set()\n",
    "\"\"\" my_tuple = (3,5)\"\"\"\n",
    "\"\"\" pairs.add(my_tuple)\"\"\"\n",
    "\n",
    "descriptions = []"
   ]
  },
  {
   "cell_type": "code",
   "execution_count": 53,
   "metadata": {},
   "outputs": [
    {
     "name": "stdout",
     "output_type": "stream",
     "text": [
      "\n",
      "Pair: Test tube holder, Boiling tube\n",
      "Region 5\n",
      "\n",
      "Pair: Test tube holder, Lead nitrate\n",
      "Region 3\n",
      "\n",
      "Pair: Test tube holder, Burner\n",
      "Region 3\n",
      "j is 0\n",
      "bx[j] is False\n",
      "j is 1\n",
      "bx[j] is False\n",
      "j is 2\n",
      "bx[j] is False\n",
      "j is 3\n",
      "bx[j] is True\n",
      "j is 4\n",
      "bx[j] is False\n",
      "j is 5\n",
      "bx[j] is True\n",
      "j is 6\n",
      "bx[j] is False\n",
      "j is 7\n",
      "bx[j] is False\n",
      "\n",
      "Pair: Boiling tube, Lead nitrate\n",
      "Region 3\n",
      "\n",
      "Pair: Boiling tube, Burner\n",
      "Region 3\n",
      "j is 0\n",
      "bx[j] is False\n",
      "j is 1\n",
      "bx[j] is False\n",
      "j is 2\n",
      "bx[j] is False\n",
      "j is 3\n",
      "bx[j] is True\n",
      "j is 4\n",
      "bx[j] is False\n",
      "j is 5\n",
      "bx[j] is False\n",
      "j is 6\n",
      "bx[j] is False\n",
      "j is 7\n",
      "bx[j] is False\n",
      "\n",
      "Pair: Lead nitrate, Burner\n",
      "Region 3\n",
      "j is 0\n",
      "bx[j] is False\n",
      "j is 1\n",
      "bx[j] is False\n",
      "j is 2\n",
      "bx[j] is False\n",
      "j is 3\n",
      "bx[j] is True\n",
      "j is 4\n",
      "bx[j] is False\n",
      "j is 5\n",
      "bx[j] is False\n",
      "j is 6\n",
      "bx[j] is False\n",
      "j is 7\n",
      "bx[j] is False\n",
      "\n",
      "Pair: Burner, Test tube holder\n",
      "Region 2\n",
      "\n",
      "Pair: Burner, Boiling tube\n",
      "Region 2\n",
      "j is 0\n",
      "bx[j] is False\n",
      "j is 1\n",
      "bx[j] is False\n",
      "j is 2\n",
      "bx[j] is True\n",
      "j is 3\n",
      "bx[j] is False\n",
      "j is 4\n",
      "bx[j] is False\n",
      "j is 5\n",
      "bx[j] is False\n",
      "j is 6\n",
      "bx[j] is False\n",
      "j is 7\n",
      "bx[j] is False\n"
     ]
    }
   ],
   "source": [
    "for i,label in enumerate(labels):\n",
    "    my_x = label.getX()\n",
    "    my_y = label.getY()\n",
    "    \n",
    "    ### maintaining info for all the 8 regions\n",
    "    bx = [False]*8\n",
    "    minx = [(-1,1000000000)]*8 \n",
    "    \"\"\"array of tuples (index,value)\"\"\"\n",
    "    \n",
    "    \n",
    "    for j in range(0,len(labels)):\n",
    "        \n",
    "        # First check  if the pair already exists or not\n",
    "        if i == j: continue\n",
    "        if (i,j) in pairs or (j,i) in pairs: continue\n",
    "        \n",
    "        # Get the cordinates for the other point\n",
    "        his_x = labels[j].getX()\n",
    "        his_y = labels[j].getY()\n",
    "        \n",
    "        print (\"\\nPair: \" + labels[i].getText() + \", \" + labels[j].getText())\n",
    "        \"\"\" \n",
    "        If its in the range of 20 degress above or below the direct direction\n",
    "        x increases on the right and y increases towards bottom\n",
    "        tan(20*) = 0.36 \n",
    "        \n",
    "        \n",
    "        Go through all the labels only once\n",
    "        For each label calculate in which of the 8 regions does it lie\n",
    "        \n",
    "        For each region maintain the closest one you have obtained till now\n",
    "        Also if you have at all obtained any label from that region or not.\n",
    "        \n",
    "        In the end just add the details of those closest ones from each region.\n",
    "        \"\"\"\n",
    "    \n",
    "        \n",
    "        \n",
    "        if his_x > my_x  and abs(his_y-my_y)/(his_x-my_x) <  0.36:    \n",
    "            \"\"\" Right \"\"\"\n",
    "            k = 0\n",
    "            d = dist(my_x, my_y, his_x, his_y)\n",
    "            if bx[k]:\n",
    "                if d < minx[k][1]:\n",
    "                    minx[k] = (j,d)\n",
    "            else:\n",
    "                bx[k] = True\n",
    "                minx[k] = (j,d)\n",
    "            \n",
    "            print (\"Region \" + str(k))\n",
    "            \n",
    "        elif his_x < my_x and abs(his_y-my_y)/(my_x-his_x) <  0.36:\n",
    "            \"\"\" Left \"\"\"\n",
    "            k = 1\n",
    "            d = dist(my_x, my_y, his_x, his_y)\n",
    "            if bx[k]:\n",
    "                if d < minx[k][1]:\n",
    "                    minx[k] = (j,d)\n",
    "            else:\n",
    "                bx[k] = True\n",
    "                minx[k] = (j,d)\n",
    "            \n",
    "            print (\"Region \" + str(k))\n",
    "            \n",
    "        elif his_y < my_y and abs(his_x-my_x)/(my_y-his_y) <  0.36:\n",
    "            \"\"\" Top \"\"\"\n",
    "            k = 2\n",
    "            d = dist(my_x, my_y, his_x, his_y)\n",
    "            if bx[k]:\n",
    "                if d < minx[k][1]:\n",
    "                    minx[k] = (j,d)\n",
    "            else:\n",
    "                bx[k] = True\n",
    "                minx[k] = (j,d)\n",
    "            \n",
    "            print (\"Region \" + str(k))\n",
    "        \n",
    "        elif his_y > my_y and abs(his_x-my_x)/(his_y-my_y) <  0.36:\n",
    "            \"\"\" Bottom \"\"\"\n",
    "            k = 3\n",
    "            d = dist(my_x, my_y, his_x, his_y)\n",
    "            if bx[k]:\n",
    "                if d < minx[k][1]:\n",
    "                    minx[k] = (j,d)\n",
    "            else:\n",
    "                bx[k] = True\n",
    "                minx[k] = (j,d)\n",
    "            \n",
    "            print (\"Region \" + str(k))\n",
    "            \n",
    "        elif his_x > my_x and his_y < my_y:\n",
    "            \"\"\" Top Right \"\"\"\n",
    "            k = 4\n",
    "            d = dist(my_x, my_y, his_x, his_y)\n",
    "            if bx[k]:\n",
    "                if d < minx[k][1]:\n",
    "                    minx[k] = (j,d)\n",
    "            else:\n",
    "                bx[k] = True\n",
    "                minx[k] = (j,d)\n",
    "                \n",
    "            print (\"Region \" + str(k))\n",
    "                \n",
    "        elif his_x > my_x and his_y > my_y:\n",
    "            \"\"\" Bottom Right \"\"\"\n",
    "            k = 5\n",
    "            d = dist(my_x, my_y, his_x, his_y)\n",
    "            if bx[k]:\n",
    "                if d < minx[k][1]:\n",
    "                    minx[k] = (j,d)\n",
    "            else:\n",
    "                bx[k] = True\n",
    "                minx[k] = (j,d)\n",
    "                \n",
    "            print (\"Region \" + str(k)) \n",
    "                \n",
    "        elif his_x < my_x and his_y < my_y:\n",
    "            \"\"\" Top Left \"\"\"\n",
    "            k = 6\n",
    "            d = dist(my_x, my_y, his_x, his_y)\n",
    "            if bx[k]:\n",
    "                if d < minx[k][1]:\n",
    "                    minx[k] = (j,d)\n",
    "            else:\n",
    "                bx[k] = True\n",
    "                minx[k] = (j,d)\n",
    "                \n",
    "            print (\"Region \" + str(k)) \n",
    "                \n",
    "        elif his_x < my_x and his_y > my_y:\n",
    "            \"\"\" Bottom Left \"\"\"\n",
    "            k = 7\n",
    "            d = dist(my_x, my_y, his_x, his_y)\n",
    "            if bx[k]:\n",
    "                if d < minx[k][1]:\n",
    "                    minx[k] = (j,d)\n",
    "            else:\n",
    "                bx[k] = True\n",
    "                minx[k] = (j,d)\n",
    "                \n",
    "            print (\"Region \" + str(k))\n",
    "            \n",
    "            \n",
    "    ### Add all the 8 regions best ones into the pairs set.\n",
    "    for j in range(8):\n",
    "        print (\"j is \" + str(j))\n",
    "        print (\"bx[j] is \" + str(bx[j]))\n",
    "        if bx[j]:\n",
    "            pairs.add((i,minx[j][0]))\n",
    "            \n",
    "            \"\"\"For each case, add the Description\"\"\"\n",
    "            if j==0:\n",
    "                s = labels[minx[j][0]].getText() + \" is on the right of \" + labels[i].getText()\n",
    "                descriptions.append(s)\n",
    "            elif j==1:\n",
    "                s = labels[minx[j][0]].getText() + \" is on the left of \" + labels[i].getText()\n",
    "                descriptions.append(s)\n",
    "            elif j==2:\n",
    "                s = labels[minx[j][0]].getText() + \" is on the top of \" + labels[i].getText()\n",
    "                descriptions.append(s)\n",
    "            elif j==3:\n",
    "                s = labels[minx[j][0]].getText() + \" is on the bottom of \" + labels[i].getText()\n",
    "                descriptions.append(s)\n",
    "            elif j==4:\n",
    "                s = labels[minx[j][0]].getText() + \" is on the top right of \" + labels[i].getText()\n",
    "                descriptions.append(s)\n",
    "            elif j==5:\n",
    "                s = labels[minx[j][0]].getText() + \" is on the bottom right of \" + labels[i].getText()\n",
    "                descriptions.append(s)\n",
    "            elif j==6:\n",
    "                s = labels[minx[j][0]].getText() + \" is on the top left of \" + labels[i].getText()\n",
    "                descriptions.append(s)\n",
    "            elif j==7:\n",
    "                s = labels[minx[j][0]].getText() + \" is on the bottom left of \" + labels[i].getText()\n",
    "                descriptions.append(s)\n",
    "            \n",
    "    \n",
    "    \n",
    "    "
   ]
  },
  {
   "cell_type": "code",
   "execution_count": 54,
   "metadata": {},
   "outputs": [
    {
     "data": {
      "text/plain": [
       "[u'Lead nitrate is on the bottom of Test tube holder',\n",
       " u'Boiling tube is on the bottom right of Test tube holder',\n",
       " u'Lead nitrate is on the bottom of Boiling tube',\n",
       " u'Burner is on the bottom of Lead nitrate',\n",
       " u'Boiling tube is on the top of Burner']"
      ]
     },
     "execution_count": 54,
     "metadata": {},
     "output_type": "execute_result"
    }
   ],
   "source": [
    "descriptions"
   ]
  },
  {
   "cell_type": "code",
   "execution_count": 55,
   "metadata": {},
   "outputs": [
    {
     "data": {
      "text/plain": [
       "{(0, 1), (0, 2), (1, 2), (2, 3), (3, 1)}"
      ]
     },
     "execution_count": 55,
     "metadata": {},
     "output_type": "execute_result"
    }
   ],
   "source": [
    "pairs"
   ]
  },
  {
   "cell_type": "markdown",
   "metadata": {},
   "source": [
    "### Finally output all the things one by one: \n",
    "- The No. of labels\n",
    "- The Caption\n",
    "- The Labels itself\n",
    "- The Relative positions pairwise"
   ]
  },
  {
   "cell_type": "code",
   "execution_count": null,
   "metadata": {},
   "outputs": [],
   "source": []
  },
  {
   "cell_type": "code",
   "execution_count": null,
   "metadata": {},
   "outputs": [],
   "source": []
  },
  {
   "cell_type": "code",
   "execution_count": 32,
   "metadata": {},
   "outputs": [
    {
     "data": {
      "text/plain": [
       "[False, False, False, False, False, False, False, False, False]"
      ]
     },
     "execution_count": 32,
     "metadata": {},
     "output_type": "execute_result"
    }
   ],
   "source": [
    "a = [False]*9\n",
    "a"
   ]
  },
  {
   "cell_type": "code",
   "execution_count": 33,
   "metadata": {},
   "outputs": [
    {
     "data": {
      "text/plain": [
       "[(-1, 1000000000),\n",
       " (-1, 1000000000),\n",
       " (-1, 1000000000),\n",
       " (-1, 1000000000),\n",
       " (-1, 1000000000),\n",
       " (-1, 1000000000),\n",
       " (-1, 1000000000),\n",
       " (-1, 1000000000)]"
      ]
     },
     "execution_count": 33,
     "metadata": {},
     "output_type": "execute_result"
    }
   ],
   "source": [
    "mix = [(-1,1000000000)]*8\n",
    "mix"
   ]
  },
  {
   "cell_type": "code",
   "execution_count": null,
   "metadata": {},
   "outputs": [],
   "source": []
  }
 ],
 "metadata": {
  "kernelspec": {
   "display_name": "Python 2",
   "language": "python",
   "name": "python2"
  },
  "language_info": {
   "codemirror_mode": {
    "name": "ipython",
    "version": 2
   },
   "file_extension": ".py",
   "mimetype": "text/x-python",
   "name": "python",
   "nbconvert_exporter": "python",
   "pygments_lexer": "ipython2",
   "version": "2.7.14"
  }
 },
 "nbformat": 4,
 "nbformat_minor": 2
}
